{
 "cells": [
  {
   "cell_type": "code",
   "execution_count": 1,
   "metadata": {},
   "outputs": [],
   "source": [
    "# Create Training Data set and Labels"
   ]
  },
  {
   "cell_type": "code",
   "execution_count": 47,
   "metadata": {},
   "outputs": [],
   "source": [
    "import numpy as np\n",
    "import matplotlib.pyplot as plt\n",
    "import sklearn\n",
    "from sklearn.metrics import accuracy_score"
   ]
  },
  {
   "cell_type": "code",
   "execution_count": 28,
   "metadata": {},
   "outputs": [],
   "source": [
    "x11 = np.random.rand(400,1)\n",
    "x12 = 4*np.random.rand(400,1)\n",
    "\n",
    "x21 = 2*np.random.rand(400,1)\n",
    "x22 = 2*np.random.rand(400,1)\n",
    "\n",
    "x3 = np.ones((400,1))\n",
    "\n",
    "xD1 = np.hstack((x12,x11,x3)) # Dataset 1\n",
    "xD2 = np.hstack((x22,x11,x3)) # Dataset 2\n",
    "\n",
    "w1 = np.array([[1],[4],[-4]]) # weight to define label 1\n",
    "w2 = np.array([[1],[1],[-2]]) # weight to define label 2\n",
    "\n",
    "y1 = (np.sign(np.dot(xD1,w1))+1)/2 # label for dataset 1\n",
    "y2 = (np.sign(np.dot(xD2,w2))+1)/2 # label for dataset 2"
   ]
  },
  {
   "cell_type": "code",
   "execution_count": 33,
   "metadata": {},
   "outputs": [],
   "source": [
    "# Initializations and definitions"
   ]
  },
  {
   "cell_type": "code",
   "execution_count": 38,
   "metadata": {},
   "outputs": [],
   "source": [
    "def weightInitialization(num_features):\n",
    "    w = np.zeros((num_features,1))\n",
    "    return w\n",
    "\n",
    "def sigmoid_function(x):\n",
    "    result = 1/(1 + np.exp(-x))\n",
    "    return x\n",
    "\n",
    "def model_optimize(w, x, y):\n",
    "    n = x.shape[0]\n",
    "    \n",
    "    # Evaluating cost value\n",
    "    result = sigmoid_function(np.dot(x,w))\n",
    "    cost = (-1/m)*(np.sum((y*np.log(result) + (1-y)*np.log(1-result))))\n",
    "    \n",
    "    # Gradient calculation\n",
    "    dw = (1/n)*(np.dot(x.T,(result-y)))\n",
    "    return dw,cost\n"
   ]
  },
  {
   "cell_type": "code",
   "execution_count": 54,
   "metadata": {},
   "outputs": [],
   "source": [
    "def model_predict(w,x,y,learning_rate,num_iterations):\n",
    "    costs = []\n",
    "    for i in range(num_iterations):\n",
    "        \n",
    "        dw, cost = model_optimize(w,x,y)\n",
    "        \n",
    "        w = w - (learning_rate)*dw\n",
    "        \n",
    "        if (i%1000 == 0):\n",
    "            costs.append(cost)\n",
    "            print(\"Cost after iteration %i is : %f\" % (i,cost))\n",
    "            \n",
    "    coeff = w\n",
    "    gradient = dw\n",
    "    \n",
    "    return w,dw,costs\n",
    "\n",
    "def predict(final_pred, m):\n",
    "    y_pred = np.zeros((m,1))\n",
    "    for i in range(final_pred.shape[0]):\n",
    "        if (final_pred[i][0] > 0.5):\n",
    "            y_pred[i][0] = 1\n",
    "    \n",
    "    return y_pred"
   ]
  },
  {
   "cell_type": "code",
   "execution_count": 83,
   "metadata": {},
   "outputs": [
    {
     "name": "stdout",
     "output_type": "stream",
     "text": [
      "number of features is 3\n",
      "Cost after iteration 0 is : nan\n",
      "Cost after iteration 1000 is : 0.712636\n",
      "Cost after iteration 2000 is : 0.570192\n",
      "Cost after iteration 3000 is : 0.527975\n",
      "Cost after iteration 4000 is : 0.512310\n",
      "Cost after iteration 5000 is : 0.505092\n"
     ]
    },
    {
     "name": "stderr",
     "output_type": "stream",
     "text": [
      "/Users/sidharthgurbani/anaconda3/lib/python3.7/site-packages/ipykernel_launcher.py:14: RuntimeWarning: divide by zero encountered in log\n",
      "  \n",
      "/Users/sidharthgurbani/anaconda3/lib/python3.7/site-packages/ipykernel_launcher.py:14: RuntimeWarning: invalid value encountered in multiply\n",
      "  \n"
     ]
    },
    {
     "name": "stdout",
     "output_type": "stream",
     "text": [
      "Cost after iteration 6000 is : 0.500789\n",
      "Cost after iteration 7000 is : 0.497581\n",
      "Cost after iteration 8000 is : 0.494836\n",
      "Cost after iteration 9000 is : 0.492315\n",
      "Cost after iteration 10000 is : 0.489921\n",
      "Cost after iteration 11000 is : 0.487606\n",
      "Cost after iteration 12000 is : 0.485349\n",
      "Cost after iteration 13000 is : 0.483137\n",
      "Cost after iteration 14000 is : 0.480963\n",
      "Cost after iteration 15000 is : 0.478824\n",
      "Cost after iteration 16000 is : 0.476715\n",
      "Cost after iteration 17000 is : 0.474636\n",
      "Cost after iteration 18000 is : 0.472585\n",
      "Cost after iteration 19000 is : 0.470560\n",
      "Cost after iteration 20000 is : 0.468562\n",
      "Cost after iteration 21000 is : 0.466589\n",
      "Cost after iteration 22000 is : 0.464640\n",
      "weight vector final is [[0.2017571 ]\n",
      " [0.18792866]\n",
      " [0.02216106]]\n",
      "Training accuracy is 0.8\n"
     ]
    }
   ],
   "source": [
    "num_features = xD1.shape[1]\n",
    "m = xD1.shape[0]\n",
    "print(\"number of features is %i\" % num_features)\n",
    "\n",
    "w = weightInitialization(num_features)\n",
    "\n",
    "w, grad, costs = model_predict(w, xD1, y1, learning_rate=0.0001, num_iterations=23000)\n",
    "\n",
    "final_pred = sigmoid_function(np.dot(xD1,w))\n",
    "\n",
    "y_pred = predict(final_pred, m)\n",
    "\n",
    "print(\"weight vector final is\", w)\n",
    "\n",
    "print(\"Training accuracy is\", accuracy_score(y_pred, y1))"
   ]
  },
  {
   "cell_type": "code",
   "execution_count": 84,
   "metadata": {},
   "outputs": [
    {
     "data": {
      "image/png": "[encoded data removed]",
      "text/plain": [
       "<Figure size 432x288 with 1 Axes>"
      ]
     },
     "metadata": {
      "needs_background": "light"
     },
     "output_type": "display_data"
    }
   ],
   "source": [
    "plt.plot(costs)\n",
    "plt.ylabel(\"cost\")\n",
    "plt.xlabel(\"number of iterations (per hundreds)\")\n",
    "plt.title(\"cost vs number of iterations estimate\")\n",
    "plt.show()"
   ]
  },
  {
   "cell_type": "code",
   "execution_count": null,
   "metadata": {},
   "outputs": [],
   "source": []
  }
 ],
 "metadata": {
  "kernelspec": {
   "display_name": "Python 3",
   "language": "python",
   "name": "python3"
  },
  "language_info": {
   "codemirror_mode": {
    "name": "ipython",
    "version": 3
   },
   "file_extension": ".py",
   "mimetype": "text/x-python",
   "name": "python",
   "nbconvert_exporter": "python",
   "pygments_lexer": "ipython3",
   "version": "3.7.3"
  }
 },
 "nbformat": 4,
 "nbformat_minor": 2
}
